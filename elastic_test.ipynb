{
 "cells": [
  {
   "cell_type": "markdown",
   "metadata": {},
   "source": [
    "# Inserir dados no ElasticSearch - wsl2 (Windows 10)"
   ]
  },
  {
   "cell_type": "code",
   "execution_count": null,
   "metadata": {},
   "outputs": [],
   "source": [
    "# configurar as variáveis de ambiente\n",
    "import os\n",
    "import elasticsearch\n",
    "from elasticsearch import Elasticsearch, helpers\n",
    " \n",
    "# tornar o pyspark \"importável\"\n",
    "import findspark\n",
    "findspark.init('../../anaconda3/spark-2.4.4-bin-hadoop2.7')"
   ]
  },
  {
   "cell_type": "code",
   "execution_count": null,
   "metadata": {},
   "outputs": [],
   "source": [
    "# iniciar uma sessão local\n",
    "from pyspark import SparkContext, SparkConf, SQLContext\n",
    "from pyspark.sql import functions as f\n",
    "from pyspark.sql.window import Window as w\n",
    "import pyodbc\n",
    "import pandas as pd\n",
    "import json\n",
    "\n",
    "appName = \"PySpark Test\"\n",
    "conf = SparkConf() \\\n",
    "    .setAppName(appName) \\\n",
    "    .setMaster(\"local\") \n",
    "sc = SparkContext(conf=conf)\n",
    "sqlContext = SQLContext(sc)\n",
    "spark = sqlContext.sparkSession"
   ]
  },
  {
   "cell_type": "code",
   "execution_count": null,
   "metadata": {},
   "outputs": [],
   "source": [
    "es = Elasticsearch([{'host':'localhost','port':9200}])"
   ]
  },
  {
   "cell_type": "code",
   "execution_count": null,
   "metadata": {},
   "outputs": [],
   "source": [
    "es.indices.create(index='andre_elk',ignore=400)"
   ]
  },
  {
   "cell_type": "code",
   "execution_count": null,
   "metadata": {},
   "outputs": [],
   "source": [
    "res=es.indices.get_alias(\"*\")\n",
    "for Name in res:\n",
    "    print(Name)"
   ]
  },
  {
   "cell_type": "code",
   "execution_count": null,
   "metadata": {},
   "outputs": [],
   "source": [
    "df_spark = spark.read.option(\"delimiter\", \";\").csv(\"/home/aluisf/estudos/dados/mvno_arquivos/*.txt\", header=True)"
   ]
  },
  {
   "cell_type": "code",
   "execution_count": null,
   "metadata": {},
   "outputs": [],
   "source": [
    "df_pd = df_spark.select(\"CPF_CNPJ\",\"NOME_DO_ASSINANTE\",\"NUMERO_DO_TERMINAL\",\"SITUACAO\",\"DATA_INICIO_DO_VINCULO\",\"DATA_FIN_DO_CANCELAMENTO\").toPandas()\n",
    "df_pd.columns"
   ]
  },
  {
   "cell_type": "code",
   "execution_count": null,
   "metadata": {},
   "outputs": [],
   "source": [
    "df_pd.isna().sum()"
   ]
  },
  {
   "cell_type": "code",
   "execution_count": null,
   "metadata": {},
   "outputs": [],
   "source": [
    "df_pd = df_pd.dropna(subset=[\"CPF_CNPJ\"])"
   ]
  },
  {
   "cell_type": "code",
   "execution_count": null,
   "metadata": {},
   "outputs": [],
   "source": [
    "df_pd.shape"
   ]
  },
  {
   "cell_type": "code",
   "execution_count": null,
   "metadata": {},
   "outputs": [],
   "source": [
    "df_pd2 = df_pd.to_dict('records')"
   ]
  },
  {
   "cell_type": "code",
   "execution_count": null,
   "metadata": {},
   "outputs": [],
   "source": [
    "df_pd2[0]"
   ]
  },
  {
   "cell_type": "code",
   "execution_count": null,
   "metadata": {},
   "outputs": [],
   "source": [
    "def generator(df_pd2):\n",
    "    for c, line in enumerate(df_pd2):\n",
    "        yield {\n",
    "            \"_index\":\"andre_elk\",\n",
    "            \"_id\":line.get(\"CPF_CNPJ\",None),\n",
    "            \"_source\":{\n",
    "                \"nome_do_assinante\":line.get(\"NOME_DO_ASSINANTE\",\"\"),\n",
    "                \"numero_do_terminal\":line.get(\"NUMERO_DO_TERMINAL\",\"\"),\n",
    "                \"situacao\":line.get(\"SITUACAO\",\"\"),\n",
    "                \"data_inicio\":line.get(\"DATA_INICIO_DO_VINCULO\",\"\"),\n",
    "                \"data_fim\":line.get(\"DATA_FIN_DO_CANCELAMENTO\",\"\")\n",
    "            }\n",
    "        }\n",
    "        raise StopIteration"
   ]
  },
  {
   "cell_type": "code",
   "execution_count": null,
   "metadata": {},
   "outputs": [],
   "source": [
    "elk_test = generator(df_pd2)"
   ]
  },
  {
   "cell_type": "code",
   "execution_count": null,
   "metadata": {},
   "outputs": [],
   "source": [
    "next(elk_test)"
   ]
  },
  {
   "cell_type": "code",
   "execution_count": null,
   "metadata": {},
   "outputs": [],
   "source": [
    "try:\n",
    "    res = helpers.bulk(es, generator(df_pd2))\n",
    "    print(\"Carregando\")\n",
    "except Exception as e:\n",
    "    print(e)"
   ]
  }
 ],
 "metadata": {
  "kernelspec": {
   "display_name": "Python 3",
   "language": "python",
   "name": "python3"
  },
  "language_info": {
   "codemirror_mode": {
    "name": "ipython",
    "version": 3
   },
   "file_extension": ".py",
   "mimetype": "text/x-python",
   "name": "python",
   "nbconvert_exporter": "python",
   "pygments_lexer": "ipython3",
   "version": "3.7.10"
  },
  "metadata": {
   "interpreter": {
    "hash": "96b3e1fd3b8f550fa61bfeec724c9a71841a5a7e2f16a3ca3786663290633bb9"
   }
  }
 },
 "nbformat": 4,
 "nbformat_minor": 4
}

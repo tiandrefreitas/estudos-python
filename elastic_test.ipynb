{
 "cells": [
  {
   "cell_type": "code",
   "execution_count": 1,
   "metadata": {},
   "outputs": [],
   "source": [
    "# configurar as variáveis de ambiente\n",
    "import os\n",
    "import elasticsearch\n",
    "from elasticsearch import Elasticsearch, helpers\n",
    " \n",
    "# tornar o pyspark \"importável\"\n",
    "import findspark\n",
    "findspark.init('../../anaconda3/spark-2.4.4-bin-hadoop2.7')"
   ]
  },
  {
   "cell_type": "code",
   "execution_count": 4,
   "metadata": {},
   "outputs": [],
   "source": [
    "# iniciar uma sessão local\n",
    "from pyspark import SparkContext, SparkConf, SQLContext\n",
    "from pyspark.sql import functions as f\n",
    "from pyspark.sql.window import Window as w\n",
    "import pyodbc\n",
    "import pandas as pd\n",
    "import json\n",
    "\n",
    "appName = \"PySpark Test\"\n",
    "conf = SparkConf() \\\n",
    "    .setAppName(appName) \\\n",
    "    .setMaster(\"local\") \n",
    "sc = SparkContext(conf=conf)\n",
    "sqlContext = SQLContext(sc)\n",
    "spark = sqlContext.sparkSession"
   ]
  },
  {
   "cell_type": "code",
   "execution_count": 202,
   "metadata": {},
   "outputs": [],
   "source": [
    "es = Elasticsearch([{'host':'localhost','port':9200}])"
   ]
  },
  {
   "cell_type": "code",
   "execution_count": 55,
   "metadata": {},
   "outputs": [
    {
     "data": {
      "text/plain": [
       "{'acknowledged': True, 'shards_acknowledged': True, 'index': 'andre_elk'}"
      ]
     },
     "execution_count": 55,
     "metadata": {},
     "output_type": "execute_result"
    }
   ],
   "source": [
    "es.indices.create(index='andre_elk',ignore=400)"
   ]
  },
  {
   "cell_type": "code",
   "execution_count": null,
   "metadata": {},
   "outputs": [],
   "source": [
    "res=es.indices.get_alias(\"*\")\n",
    "for Name in res:\n",
    "    print(Name)"
   ]
  },
  {
   "cell_type": "code",
   "execution_count": 176,
   "metadata": {},
   "outputs": [],
   "source": [
    "df_spark = spark.read.option(\"delimiter\", \";\").csv(\"/home/aluisf/estudos/dados/mvno_arquivos/*.txt\", header=True)"
   ]
  },
  {
   "cell_type": "code",
   "execution_count": 192,
   "metadata": {},
   "outputs": [
    {
     "data": {
      "text/plain": [
       "Index(['CPF_CNPJ', 'NOME_DO_ASSINANTE', 'NUMERO_DO_TERMINAL', 'SITUACAO',\n",
       "       'DATA_INICIO_DO_VINCULO', 'DATA_FIN_DO_CANCELAMENTO'],\n",
       "      dtype='object')"
      ]
     },
     "execution_count": 192,
     "metadata": {},
     "output_type": "execute_result"
    }
   ],
   "source": [
    "df_pd = df_spark.select(\"CPF_CNPJ\",\"NOME_DO_ASSINANTE\",\"NUMERO_DO_TERMINAL\",\"SITUACAO\",\"DATA_INICIO_DO_VINCULO\",\"DATA_FIN_DO_CANCELAMENTO\").toPandas()\n",
    "df_pd.columns"
   ]
  },
  {
   "cell_type": "code",
   "execution_count": 193,
   "metadata": {},
   "outputs": [
    {
     "data": {
      "text/plain": [
       "CPF_CNPJ                     15\n",
       "NOME_DO_ASSINANTE           350\n",
       "NUMERO_DO_TERMINAL            0\n",
       "SITUACAO                      0\n",
       "DATA_INICIO_DO_VINCULO        0\n",
       "DATA_FIN_DO_CANCELAMENTO      0\n",
       "dtype: int64"
      ]
     },
     "execution_count": 193,
     "metadata": {},
     "output_type": "execute_result"
    }
   ],
   "source": [
    "df_pd.isna().sum()"
   ]
  },
  {
   "cell_type": "code",
   "execution_count": 194,
   "metadata": {},
   "outputs": [],
   "source": [
    "df_pd = df_pd.dropna(subset=[\"CPF_CNPJ\"])"
   ]
  },
  {
   "cell_type": "code",
   "execution_count": 189,
   "metadata": {},
   "outputs": [
    {
     "data": {
      "text/plain": [
       "(10002, 6)"
      ]
     },
     "execution_count": 189,
     "metadata": {},
     "output_type": "execute_result"
    }
   ],
   "source": [
    "df_pd.shape"
   ]
  },
  {
   "cell_type": "code",
   "execution_count": 195,
   "metadata": {},
   "outputs": [],
   "source": [
    "df_pd2 = df_pd.to_dict('records')"
   ]
  },
  {
   "cell_type": "code",
   "execution_count": 212,
   "metadata": {},
   "outputs": [
    {
     "data": {
      "text/plain": [
       "{'CPF_CNPJ': '07900991441',\n",
       " 'NOME_DO_ASSINANTE': 'SANDRA MONICA LOTERO DA SILVA ',\n",
       " 'NUMERO_DO_TERMINAL': '5582988827917',\n",
       " 'SITUACAO': 'ATIVA',\n",
       " 'DATA_INICIO_DO_VINCULO': '2021/04/13',\n",
       " 'DATA_FIN_DO_CANCELAMENTO': 'NULL'}"
      ]
     },
     "execution_count": 212,
     "metadata": {},
     "output_type": "execute_result"
    }
   ],
   "source": [
    "df_pd2[0]"
   ]
  },
  {
   "cell_type": "code",
   "execution_count": 218,
   "metadata": {},
   "outputs": [],
   "source": [
    "def generator(df_pd2):\n",
    "    for c, line in enumerate(df_pd2):\n",
    "        yield {\n",
    "            \"_index\":\"andre_elk\",\n",
    "            \"_id\":line.get(\"CPF_CNPJ\",None),\n",
    "            \"_source\":{\n",
    "                \"nome_do_assinante\":line.get(\"NOME_DO_ASSINANTE\",\"\"),\n",
    "                \"numero_do_terminal\":line.get(\"NUMERO_DO_TERMINAL\",\"\"),\n",
    "                \"situacao\":line.get(\"SITUACAO\",\"\"),\n",
    "                \"data_inicio\":line.get(\"DATA_INICIO_DO_VINCULO\",\"\"),\n",
    "                \"data_fim\":line.get(\"DATA_FIN_DO_CANCELAMENTO\",\"\")\n",
    "            }\n",
    "        }\n",
    "        raise StopIteration"
   ]
  },
  {
   "cell_type": "code",
   "execution_count": 210,
   "metadata": {},
   "outputs": [],
   "source": [
    "elk_test = generator(df_pd2)"
   ]
  },
  {
   "cell_type": "code",
   "execution_count": 208,
   "metadata": {},
   "outputs": [
    {
     "data": {
      "text/plain": [
       "{'_index': 'andre_elk',\n",
       " '_id': '07900991441',\n",
       " '_source': {'nome_do_assinante': 'SANDRA MONICA LOTERO DA SILVA ',\n",
       "  'numero_do_terminal': '5582988827917',\n",
       "  'situacao': 'ATIVA',\n",
       "  'data_inicio': '2021/04/13',\n",
       "  'data_fim': 'NULL'}}"
      ]
     },
     "execution_count": 208,
     "metadata": {},
     "output_type": "execute_result"
    }
   ],
   "source": [
    "next(elk_test)"
   ]
  },
  {
   "cell_type": "code",
   "execution_count": 219,
   "metadata": {},
   "outputs": [
    {
     "name": "stdout",
     "output_type": "stream",
     "text": [
      "Carregando\n"
     ]
    }
   ],
   "source": [
    "try:\n",
    "    res = helpers.bulk(es, generator(df_pd2))\n",
    "    print(\"Carregando\")\n",
    "except Exception as e:\n",
    "    print(e)"
   ]
  }
 ],
 "metadata": {
  "kernelspec": {
   "display_name": "Python 3",
   "language": "python",
   "name": "python3"
  },
  "language_info": {
   "codemirror_mode": {
    "name": "ipython",
    "version": 3
   },
   "file_extension": ".py",
   "mimetype": "text/x-python",
   "name": "python",
   "nbconvert_exporter": "python",
   "pygments_lexer": "ipython3",
   "version": "3.7.10"
  }
 },
 "nbformat": 4,
 "nbformat_minor": 4
}

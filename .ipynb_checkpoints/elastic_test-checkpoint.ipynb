{
 "cells": [
  {
   "cell_type": "markdown",
   "metadata": {},
   "source": [
    "# Inserir dados no ElasticSearch - wsl2 (Windows 10)"
   ]
  },
  {
   "cell_type": "code",
   "execution_count": 17,
   "metadata": {},
   "outputs": [],
   "source": [
    "# configurar as variáveis de ambiente\n",
    "import os\n",
    "import elasticsearch\n",
    "from elasticsearch import Elasticsearch, helpers\n",
    " \n",
    "# tornar o pyspark \"importável\"\n",
    "import findspark\n",
    "findspark.init('../../../anaconda3/spark-2.4.4-bin-hadoop2.7')"
   ]
  },
  {
   "cell_type": "code",
   "execution_count": 7,
   "metadata": {},
   "outputs": [],
   "source": [
    "# iniciar uma sessão local\n",
    "from pyspark import SparkContext, SparkConf, SQLContext\n",
    "from pyspark.sql import (SparkSession\n",
    "                        , functions as f\n",
    "                        , Window as w)\n",
    "import pyodbc\n",
    "import pandas as pd\n",
    "import json\n",
    "\n",
    "spark = SparkSession.builder \\\n",
    "            .master(\"local\") \\\n",
    "            .appName(\"Test Elastic\") \\\n",
    "            .getOrCreate()"
   ]
  },
  {
   "cell_type": "code",
   "execution_count": 20,
   "metadata": {},
   "outputs": [],
   "source": [
    "es = Elasticsearch([{'host':'localhost','port':9200, 'http_auth':('elastic', 'changeme')}])"
   ]
  },
  {
   "cell_type": "code",
   "execution_count": 21,
   "metadata": {},
   "outputs": [
    {
     "data": {
      "text/plain": [
       "{'acknowledged': True, 'shards_acknowledged': True, 'index': 'andre_elk'}"
      ]
     },
     "execution_count": 21,
     "metadata": {},
     "output_type": "execute_result"
    }
   ],
   "source": [
    "es.indices.create(index='andre_elk',ignore=400)"
   ]
  },
  {
   "cell_type": "code",
   "execution_count": 22,
   "metadata": {},
   "outputs": [
    {
     "name": "stdout",
     "output_type": "stream",
     "text": [
      ".security-7\n",
      ".triggered_watches\n",
      ".monitoring-es-7-2021.05.08\n",
      ".watcher-history-13-2021.05.08\n",
      ".monitoring-alerts-7\n",
      ".kibana-event-log-7.12.1-000001\n",
      ".kibana_security_session_1\n",
      ".watches\n",
      "logstash-2021.05.08-000001\n",
      ".kibana_7.12.1_001\n",
      ".apm-custom-link\n",
      ".monitoring-kibana-7-2021.05.08\n",
      ".apm-agent-configuration\n",
      "andre_elk\n",
      ".kibana_task_manager_7.12.1_001\n",
      ".monitoring-logstash-7-2021.05.08\n",
      ".ds-ilm-history-5-2021.05.08-000001\n"
     ]
    },
    {
     "name": "stderr",
     "output_type": "stream",
     "text": [
      "/home/aluisf/anaconda3/lib/python3.7/site-packages/elasticsearch/connection/base.py:200: ElasticsearchWarning: this request accesses system indices: [.security-7, .triggered_watches, .kibana_security_session_1, .watches, .kibana_7.12.1_001, .apm-custom-link, .apm-agent-configuration, .kibana_task_manager_7.12.1_001], but in a future major version, direct access to system indices will be prevented by default\n",
      "  warnings.warn(message, category=ElasticsearchWarning)\n"
     ]
    }
   ],
   "source": [
    "res=es.indices.get_alias(\"*\")\n",
    "for Name in res:\n",
    "    print(Name)"
   ]
  },
  {
   "cell_type": "code",
   "execution_count": 23,
   "metadata": {},
   "outputs": [],
   "source": [
    "df_spark = spark.read.option(\"delimiter\", \";\").csv(\"/home/aluisf/estudos/dados/mvno_arquivos/*.txt\", header=True)"
   ]
  },
  {
   "cell_type": "code",
   "execution_count": 24,
   "metadata": {},
   "outputs": [
    {
     "data": {
      "text/plain": [
       "Index(['CPF_CNPJ', 'NOME_DO_ASSINANTE', 'NUMERO_DO_TERMINAL', 'SITUACAO',\n",
       "       'DATA_INICIO_DO_VINCULO', 'DATA_FIN_DO_CANCELAMENTO'],\n",
       "      dtype='object')"
      ]
     },
     "execution_count": 24,
     "metadata": {},
     "output_type": "execute_result"
    }
   ],
   "source": [
    "df_pd = df_spark.select(\"CPF_CNPJ\",\"NOME_DO_ASSINANTE\",\"NUMERO_DO_TERMINAL\",\"SITUACAO\",\"DATA_INICIO_DO_VINCULO\",\"DATA_FIN_DO_CANCELAMENTO\").toPandas()\n",
    "df_pd.columns"
   ]
  },
  {
   "cell_type": "code",
   "execution_count": 25,
   "metadata": {},
   "outputs": [
    {
     "data": {
      "text/plain": [
       "CPF_CNPJ                     15\n",
       "NOME_DO_ASSINANTE           350\n",
       "NUMERO_DO_TERMINAL            0\n",
       "SITUACAO                      0\n",
       "DATA_INICIO_DO_VINCULO        0\n",
       "DATA_FIN_DO_CANCELAMENTO      0\n",
       "dtype: int64"
      ]
     },
     "execution_count": 25,
     "metadata": {},
     "output_type": "execute_result"
    }
   ],
   "source": [
    "df_pd.isna().sum()"
   ]
  },
  {
   "cell_type": "code",
   "execution_count": 26,
   "metadata": {},
   "outputs": [],
   "source": [
    "df_pd = df_pd.dropna(subset=[\"CPF_CNPJ\"])"
   ]
  },
  {
   "cell_type": "code",
   "execution_count": 27,
   "metadata": {},
   "outputs": [
    {
     "data": {
      "text/plain": [
       "(10002, 6)"
      ]
     },
     "execution_count": 27,
     "metadata": {},
     "output_type": "execute_result"
    }
   ],
   "source": [
    "df_pd.shape"
   ]
  },
  {
   "cell_type": "code",
   "execution_count": 28,
   "metadata": {},
   "outputs": [],
   "source": [
    "df_pd2 = df_pd.to_dict('records')"
   ]
  },
  {
   "cell_type": "code",
   "execution_count": 29,
   "metadata": {},
   "outputs": [
    {
     "data": {
      "text/plain": [
       "{'CPF_CNPJ': '07900991441',\n",
       " 'NOME_DO_ASSINANTE': 'SANDRA MONICA LOTERO DA SILVA ',\n",
       " 'NUMERO_DO_TERMINAL': '5582988827917',\n",
       " 'SITUACAO': 'ATIVA',\n",
       " 'DATA_INICIO_DO_VINCULO': '2021/04/13',\n",
       " 'DATA_FIN_DO_CANCELAMENTO': 'NULL'}"
      ]
     },
     "execution_count": 29,
     "metadata": {},
     "output_type": "execute_result"
    }
   ],
   "source": [
    "df_pd2[0]"
   ]
  },
  {
   "cell_type": "code",
   "execution_count": 35,
   "metadata": {},
   "outputs": [],
   "source": [
    "def generator(df_pd2):\n",
    "    for c, line in enumerate(df_pd2):\n",
    "        yield {\n",
    "            \"_index\":\"andre_elk\",\n",
    "            \"_id\":line.get(\"CPF_CNPJ\",None),\n",
    "            \"_source\":{\n",
    "                \"cpf_cnpj\":line.get(\"CPF_CNPJ\",\"\"),\n",
    "                \"nome_do_assinante\":line.get(\"NOME_DO_ASSINANTE\",\"\"),\n",
    "                \"numero_do_terminal\":line.get(\"NUMERO_DO_TERMINAL\",\"\"),\n",
    "                \"situacao\":line.get(\"SITUACAO\",\"\"),\n",
    "                \"data_inicio\":line.get(\"DATA_INICIO_DO_VINCULO\",\"\"),\n",
    "                \"data_fim\":line.get(\"DATA_FIN_DO_CANCELAMENTO\",\"\")\n",
    "            }\n",
    "        }"
   ]
  },
  {
   "cell_type": "code",
   "execution_count": 33,
   "metadata": {},
   "outputs": [],
   "source": [
    "elk_test = generator(df_pd2)"
   ]
  },
  {
   "cell_type": "code",
   "execution_count": 34,
   "metadata": {},
   "outputs": [
    {
     "data": {
      "text/plain": [
       "{'_index': 'andre_elk',\n",
       " '_id': '07900991441',\n",
       " '_source': {'cpf_cnpj': '07900991441',\n",
       "  'nome_do_assinante': 'SANDRA MONICA LOTERO DA SILVA ',\n",
       "  'numero_do_terminal': '5582988827917',\n",
       "  'situacao': 'ATIVA',\n",
       "  'data_inicio': '2021/04/13',\n",
       "  'data_fim': 'NULL'}}"
      ]
     },
     "execution_count": 34,
     "metadata": {},
     "output_type": "execute_result"
    }
   ],
   "source": [
    "next(elk_test)"
   ]
  },
  {
   "cell_type": "code",
   "execution_count": 36,
   "metadata": {},
   "outputs": [
    {
     "name": "stdout",
     "output_type": "stream",
     "text": [
      "Carregando\n"
     ]
    }
   ],
   "source": [
    "try:\n",
    "    res = helpers.bulk(es, generator(df_pd2))\n",
    "    print(\"Carregando\")\n",
    "except Exception as e:\n",
    "    print(e)"
   ]
  },
  {
   "cell_type": "code",
   "execution_count": null,
   "metadata": {},
   "outputs": [],
   "source": []
  }
 ],
 "metadata": {
  "kernelspec": {
   "display_name": "Python 3",
   "language": "python",
   "name": "python3"
  },
  "language_info": {
   "codemirror_mode": {
    "name": "ipython",
    "version": 3
   },
   "file_extension": ".py",
   "mimetype": "text/x-python",
   "name": "python",
   "nbconvert_exporter": "python",
   "pygments_lexer": "ipython3",
   "version": "3.7.10"
  },
  "metadata": {
   "interpreter": {
    "hash": "96b3e1fd3b8f550fa61bfeec724c9a71841a5a7e2f16a3ca3786663290633bb9"
   }
  }
 },
 "nbformat": 4,
 "nbformat_minor": 4
}

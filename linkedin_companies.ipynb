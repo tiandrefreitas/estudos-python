{
  "nbformat": 4,
  "nbformat_minor": 0,
  "metadata": {
    "colab": {
      "name": "linkedin_companies.ipynb",
      "provenance": [],
      "toc_visible": true,
      "authorship_tag": "ABX9TyM8CyTYAQV6zFGRPWs1s4fb",
      "include_colab_link": true
    },
    "kernelspec": {
      "name": "python3",
      "display_name": "Python 3"
    },
    "language_info": {
      "name": "python"
    }
  },
  "cells": [
    {
      "cell_type": "markdown",
      "metadata": {
        "id": "view-in-github",
        "colab_type": "text"
      },
      "source": [
        "<a href=\"https://colab.research.google.com/github/tiandrefreitas/estudos-python/blob/main/linkedin_companies.ipynb\" target=\"_parent\"><img src=\"https://colab.research.google.com/assets/colab-badge.svg\" alt=\"Open In Colab\"/></a>"
      ]
    },
    {
      "cell_type": "code",
      "metadata": {
        "id": "mZOwbtJ2Z3cT"
      },
      "source": [
        "# instalar as dependências\n",
        "!apt-get install openjdk-8-jdk-headless -qq > /dev/null\n",
        "!wget -q https://archive.apache.org/dist/spark/spark-2.4.4/spark-2.4.4-bin-hadoop2.7.tgz\n",
        "!tar xf spark-2.4.4-bin-hadoop2.7.tgz\n",
        "!pip install -q findspark"
      ],
      "execution_count": 1,
      "outputs": []
    },
    {
      "cell_type": "code",
      "metadata": {
        "id": "RSH7DLeiZ7iM"
      },
      "source": [
        "# configurar as variáveis de ambiente\n",
        "import os\n",
        "os.environ[\"JAVA_HOME\"] = \"/usr/lib/jvm/java-8-openjdk-amd64\"\n",
        "os.environ[\"SPARK_HOME\"] = \"/content/spark-2.4.4-bin-hadoop2.7\"\n",
        " \n",
        "# tornar o pyspark \"importável\"\n",
        "import findspark\n",
        "findspark.init('spark-2.4.4-bin-hadoop2.7')"
      ],
      "execution_count": 2,
      "outputs": []
    },
    {
      "cell_type": "code",
      "metadata": {
        "colab": {
          "base_uri": "https://localhost:8080/"
        },
        "id": "W4rgG07kZ-nh",
        "outputId": "84c004b1-e8c9-4aac-9467-9483d02a25a5"
      },
      "source": [
        "# iniciar uma sessão local e importar dados do Airbnb\n",
        "import pandas as pd\n",
        "from pyspark.sql import SparkSession\n",
        "from pyspark.sql import functions as f\n",
        "from pyspark.sql.window import Window as w\n",
        "sc = SparkSession.builder.master('local[*]').getOrCreate()\n",
        " \n",
        "# carregar dados do Airbnb\n",
        "df_spark = sc.read.csv(\"/content/sample_data/linkedin/Connections.csv\", inferSchema=True, header=True)\n",
        "\n",
        "# ver algumas informações sobre os tipos de dados de cada coluna\n",
        "df_spark.printSchema()"
      ],
      "execution_count": 3,
      "outputs": [
        {
          "output_type": "stream",
          "text": [
            "root\n",
            " |-- First Name: string (nullable = true)\n",
            " |-- Last Name: string (nullable = true)\n",
            " |-- Email Address: string (nullable = true)\n",
            " |-- Company: string (nullable = true)\n",
            " |-- Position: string (nullable = true)\n",
            " |-- Connected On: string (nullable = true)\n",
            "\n"
          ],
          "name": "stdout"
        }
      ]
    },
    {
      "cell_type": "code",
      "metadata": {
        "colab": {
          "base_uri": "https://localhost:8080/"
        },
        "id": "nBL1jgb9bQQ1",
        "outputId": "659e3bb4-2c72-4677-ac3a-e2ec6d4f66dd"
      },
      "source": [
        "df_spark.show()"
      ],
      "execution_count": 4,
      "outputs": [
        {
          "output_type": "stream",
          "text": [
            "+------------+----------------+--------------------+--------------------+--------------------+------------+\n",
            "|  First Name|       Last Name|       Email Address|             Company|            Position|Connected On|\n",
            "+------------+----------------+--------------------+--------------------+--------------------+------------+\n",
            "|      France|            Lage|                null|Choice Technologi...|        Data Analyst| 01 Mar 2021|\n",
            "|       Thaiz|           Rocha|                null|MGS  - Minas Gera...|Analista de dados...| 01 Mar 2021|\n",
            "|    Gabriela|        De Marco|                null|          Groupe PSA|Sales Business An...| 01 Mar 2021|\n",
            "|     Allyson|Garreto da Costa|                null|             Hapvida|   Analista de dados| 01 Mar 2021|\n",
            "|       sagar|          jadhav|                null| Dataword technology|Hadoop Administrator| 01 Mar 2021|\n",
            "| Fadli Ahmad|         Jubaedi|                null|  Mahakam Beta Farma|Data Analyst - Sa...| 01 Mar 2021|\n",
            "|     Santosh|          Rathod|                null|                 IBM|Senior Hadoop Adm...| 01 Mar 2021|\n",
            "|    Mohammed|          Ashraf|                null|            Mindtree|         Module Lead| 01 Mar 2021|\n",
            "|     Gabriel|         Santana|                null|                null|                null| 01 Mar 2021|\n",
            "|       Radha|         Dongare|                null|       Tech Mahindra|   Software Engineer| 01 Mar 2021|\n",
            "|Vigneshwaran|       Venkatesh|                null|           Accenture|       Data Engineer| 01 Mar 2021|\n",
            "|  Kamal kant|          Prasad|                null|       Wipro Limited|Senior Project En...| 01 Mar 2021|\n",
            "|    Varukolu|        Spandana|                null|             Enquero|       Data Engineer| 01 Mar 2021|\n",
            "|       MANOJ|             DAS|                null|          Softcrylic|Senior Data Engineer| 01 Mar 2021|\n",
            "|     Manisha|            Sahu|                null|                null|                null| 01 Mar 2021|\n",
            "|      Manish|         Maithil|                null|      Computeminions|        Hadoop Admin| 01 Mar 2021|\n",
            "|     Suganya|            Devi|                null|              Amazon|       Data Engineer| 01 Mar 2021|\n",
            "|      Ashita|           Kumar|                null|          TO THE NEW|       Data Engineer| 01 Mar 2021|\n",
            "|       Rahul|           kumar|                null|Tata Consultancy ...|Associate Consultant| 01 Mar 2021|\n",
            "|    Sandeep |          sharma|www.sandeepsharma...|grass solutions p...|       Data Engineer| 01 Mar 2021|\n",
            "+------------+----------------+--------------------+--------------------+--------------------+------------+\n",
            "only showing top 20 rows\n",
            "\n"
          ],
          "name": "stdout"
        }
      ]
    },
    {
      "cell_type": "code",
      "metadata": {
        "colab": {
          "base_uri": "https://localhost:8080/"
        },
        "id": "tXibGMkAbVua",
        "outputId": "bac7de20-16fd-4494-eceb-7315aaaf89f6"
      },
      "source": [
        "df_spark = df_spark.filter(f.col(\"Company\").isNotNull()).withColumn('Company', \n",
        "                    f.when(f.col('Company')==\"Conductor Tecnologia em Meios de Pagamento\",\"Conductor Tecnologia\")\n",
        "                    .otherwise(f.col('Company')))\n",
        "\n",
        "df_spark.select(f.concat(f.col(\"First Name\"),f.lit(\" \"),f.col(\"Last Name\")).alias(\"Name\")\\\n",
        "                ,\"Company\",\"Position\").show(20,False)"
      ],
      "execution_count": 5,
      "outputs": [
        {
          "output_type": "stream",
          "text": [
            "+------------------------+-------------------------------------------------+---------------------------------------------+\n",
            "|Name                    |Company                                          |Position                                     |\n",
            "+------------------------+-------------------------------------------------+---------------------------------------------+\n",
            "|France Lage             |Choice Technologies Holding Sàrl                 |Data Analyst                                 |\n",
            "|Thaiz Rocha             |MGS  - Minas Gerais Administração e Serviços S.A.|Analista de dados / Assistente administrativo|\n",
            "|Gabriela De Marco       |Groupe PSA                                       |Sales Business Analyst - Brand Peugeot       |\n",
            "|Allyson Garreto da Costa|Hapvida                                          |Analista de dados                            |\n",
            "|sagar jadhav            |Dataword technology                              |Hadoop Administrator                         |\n",
            "|Fadli Ahmad Jubaedi     |Mahakam Beta Farma                               |Data Analyst - Sales Force Effectiveness     |\n",
            "|Santosh Rathod          |IBM                                              |Senior Hadoop Administrator                  |\n",
            "|Mohammed Ashraf         |Mindtree                                         |Module Lead                                  |\n",
            "|Radha Dongare           |Tech Mahindra                                    |Software Engineer                            |\n",
            "|Vigneshwaran Venkatesh  |Accenture                                        |Data Engineer                                |\n",
            "|Kamal kant Prasad       |Wipro Limited                                    |Senior Project Engineer                      |\n",
            "|Varukolu Spandana       |Enquero                                          |Data Engineer                                |\n",
            "|MANOJ DAS               |Softcrylic                                       |Senior Data Engineer                         |\n",
            "|Manish Maithil          |Computeminions                                   |Hadoop Admin                                 |\n",
            "|Suganya Devi            |Amazon                                           |Data Engineer                                |\n",
            "|Ashita Kumar            |TO THE NEW                                       |Data Engineer                                |\n",
            "|Rahul kumar             |Tata Consultancy Services                        |Associate Consultant                         |\n",
            "|Sandeep  sharma         |grass solutions pvt ltd jaipur                   |Data Engineer                                |\n",
            "|Akshay Mule             |Amdocs                                           |Software Support Engineer                    |\n",
            "|Vishal Nara             |Wells Fargo                                      |Senior Data Engineer                         |\n",
            "+------------------------+-------------------------------------------------+---------------------------------------------+\n",
            "only showing top 20 rows\n",
            "\n"
          ],
          "name": "stdout"
        }
      ]
    },
    {
      "cell_type": "code",
      "metadata": {
        "colab": {
          "base_uri": "https://localhost:8080/"
        },
        "id": "ixoZNp0Ab6pW",
        "outputId": "894d346e-b438-4b86-abbc-20ccd62e526c"
      },
      "source": [
        "df_pd = df_spark.groupby(\"Company\")\\\n",
        "                .agg(f.count(\"Company\")\\\n",
        "                .alias(\"Count\"))\\\n",
        "                .orderBy(\"Count\", ascending=False)\\\n",
        "                .limit(20).toPandas()\n",
        "print(df_pd.to_string(index=False))"
      ],
      "execution_count": 6,
      "outputs": [
        {
          "output_type": "stream",
          "text": [
            "                   Company  Count\n",
            "                     Indra    280\n",
            "             Itau Unibanco     70\n",
            "                  Semantix     55\n",
            "          BlueShift Brasil     49\n",
            "                    Keyrus     39\n",
            "                    PicPay     37\n",
            "                  Bradesco     36\n",
            " Tata Consultancy Services     36\n",
            "      Conductor Tecnologia     36\n",
            "                     Tenbu     36\n",
            "                 Accenture     33\n",
            "                  Autônomo     31\n",
            "                     Leega     30\n",
            "                    everis     29\n",
            "                  Invillia     27\n",
            "  Vivo (Telefônica Brasil)     24\n",
            "            Infomed Benner     24\n",
            "             Via Varejo SA     23\n",
            "                 Capgemini     21\n",
            "                    A3Data     21\n"
          ],
          "name": "stdout"
        }
      ]
    },
    {
      "cell_type": "code",
      "metadata": {
        "colab": {
          "base_uri": "https://localhost:8080/",
          "height": 592
        },
        "id": "Izv7ZS9GgQ63",
        "outputId": "ed884662-4f8b-4007-d4b0-ea8aa64cfdbc"
      },
      "source": [
        "import matplotlib.pyplot as plt\n",
        "\n",
        "df_pd = df_pd.sort_values(by=['Count'])\n",
        "plt.figure(figsize=(10, 10))\n",
        "plt.barh(df_pd.Company,df_pd.Count)\n",
        "for i, v in enumerate(df_pd.Count):\n",
        "    plt.text(v + 3, i + .25, str(v))\n",
        "plt.show()\n",
        "\n",
        "\n"
      ],
      "execution_count": 8,
      "outputs": [
        {
          "output_type": "display_data",
          "data": {
            "image/png": "[encoded data removed]",
            "text/plain": [
              "<Figure size 720x720 with 1 Axes>"
            ]
          },
          "metadata": {
            "tags": [],
            "needs_background": "light"
          }
        }
      ]
    }
  ]
}
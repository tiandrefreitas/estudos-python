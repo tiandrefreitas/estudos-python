{
  "nbformat": 4,
  "nbformat_minor": 0,
  "metadata": {
    "colab": {
      "name": "pyspark_test.ipynb",
      "provenance": [],
      "authorship_tag": "ABX9TyNBXt3kzYFQ/YQliohKbmMG",
      "include_colab_link": true
    },
    "kernelspec": {
      "name": "python3",
      "display_name": "Python 3"
    },
    "language_info": {
      "name": "python"
    }
  },
  "cells": [
    {
      "cell_type": "markdown",
      "metadata": {
        "id": "view-in-github",
        "colab_type": "text"
      },
      "source": [
        "<a href=\"https://colab.research.google.com/github/tiandrefreitas/estudos-python/blob/main/pyspark_test.ipynb\" target=\"_parent\"><img src=\"https://colab.research.google.com/assets/colab-badge.svg\" alt=\"Open In Colab\"/></a>"
      ]
    },
    {
      "cell_type": "code",
      "metadata": {
        "id": "DXZxmd34DHmc"
      },
      "source": [
        "# instalar as dependências\n",
        "!apt-get install openjdk-8-jdk-headless -qq > /dev/null\n",
        "!wget -q https://archive.apache.org/dist/spark/spark-2.4.4/spark-2.4.4-bin-hadoop2.7.tgz\n",
        "!tar xf spark-2.4.4-bin-hadoop2.7.tgz\n",
        "!pip install -q findspark"
      ],
      "execution_count": 1,
      "outputs": []
    },
    {
      "cell_type": "code",
      "metadata": {
        "id": "4gGkVqlrDh1M"
      },
      "source": [
        "# configurar as variáveis de ambiente\n",
        "import os\n",
        "os.environ[\"JAVA_HOME\"] = \"/usr/lib/jvm/java-8-openjdk-amd64\"\n",
        "os.environ[\"SPARK_HOME\"] = \"/content/spark-2.4.4-bin-hadoop2.7\"\n",
        " \n",
        "# tornar o pyspark \"importável\"\n",
        "import findspark\n",
        "findspark.init('spark-2.4.4-bin-hadoop2.7')"
      ],
      "execution_count": 2,
      "outputs": []
    },
    {
      "cell_type": "code",
      "metadata": {
        "colab": {
          "base_uri": "https://localhost:8080/"
        },
        "id": "CEH5wOUFDoYh",
        "outputId": "d19872cf-1087-4c0e-ed86-c5eeaf81bff9"
      },
      "source": [
        "# iniciar uma sessão local e importar dados do Airbnb\n",
        "import pandas as pd\n",
        "from pyspark.sql import SparkSession\n",
        "from pyspark.sql import functions as f\n",
        "from pyspark.sql.window import Window as w\n",
        "sc = SparkSession.builder.master('local[*]').getOrCreate()\n",
        " \n",
        "# download do http para arquivo local\n",
        "!wget --quiet --show-progress http://data.insideairbnb.com/brazil/rj/rio-de-janeiro/2019-07-15/visualisations/listings.csv\n",
        " \n",
        "# carregar dados do Airbnb\n",
        "df_spark = sc.read.csv(\"./listings.csv\", inferSchema=True, header=True)\n",
        " \n",
        "# ver algumas informações sobre os tipos de dados de cada coluna\n",
        "df_spark.printSchema()"
      ],
      "execution_count": 3,
      "outputs": [
        {
          "output_type": "stream",
          "text": [
            "listings.csv.3      100%[===================>]   4.49M  8.75MB/s    in 0.5s    \n",
            "root\n",
            " |-- id: string (nullable = true)\n",
            " |-- name: string (nullable = true)\n",
            " |-- host_id: string (nullable = true)\n",
            " |-- host_name: string (nullable = true)\n",
            " |-- neighbourhood_group: string (nullable = true)\n",
            " |-- neighbourhood: string (nullable = true)\n",
            " |-- latitude: string (nullable = true)\n",
            " |-- longitude: string (nullable = true)\n",
            " |-- room_type: string (nullable = true)\n",
            " |-- price: string (nullable = true)\n",
            " |-- minimum_nights: string (nullable = true)\n",
            " |-- number_of_reviews: string (nullable = true)\n",
            " |-- last_review: string (nullable = true)\n",
            " |-- reviews_per_month: string (nullable = true)\n",
            " |-- calculated_host_listings_count: double (nullable = true)\n",
            " |-- availability_365: integer (nullable = true)\n",
            "\n"
          ],
          "name": "stdout"
        }
      ]
    },
    {
      "cell_type": "code",
      "metadata": {
        "colab": {
          "base_uri": "https://localhost:8080/"
        },
        "id": "72qCcbgxDzAh",
        "outputId": "a1bccf9b-6046-49b0-d5f8-9490a974137a"
      },
      "source": [
        "df_spark.show()"
      ],
      "execution_count": 4,
      "outputs": [
        {
          "output_type": "stream",
          "text": [
            "+-----+--------------------+-------+--------------------+-------------------+---------------+---------+---------+---------------+-----+--------------+-----------------+-----------+-----------------+------------------------------+----------------+\n",
            "|   id|                name|host_id|           host_name|neighbourhood_group|  neighbourhood| latitude|longitude|      room_type|price|minimum_nights|number_of_reviews|last_review|reviews_per_month|calculated_host_listings_count|availability_365|\n",
            "+-----+--------------------+-------+--------------------+-------------------+---------------+---------+---------+---------------+-----+--------------+-----------------+-----------+-----------------+------------------------------+----------------+\n",
            "|17878|Very Nice 2Br - C...|  68997|            Matthias|               null|     Copacabana|-22.96592|-43.17896|Entire home/apt|  296|             4|              233| 2019-06-30|             2.13|                           1.0|             332|\n",
            "|25026|Beautiful Modern ...| 102840|             Viviane|               null|     Copacabana|-22.97712|-43.19045|Entire home/apt|  161|             4|              232| 2019-04-27|             2.09|                           3.0|             352|\n",
            "|31560|NICE & COZY 1BDR ...| 135635|              Renata|               null|        Ipanema|-22.98302|-43.21427|Entire home/apt|  243|             2|              260| 2019-07-08|             2.37|                           1.0|             125|\n",
            "|35636|Cosy flat close t...| 153232|            Patricia|               null|        Ipanema|-22.98816|-43.19359|Entire home/apt|  337|             2|              160| 2019-07-04|             2.29|                           1.0|             122|\n",
            "|35764|COPACABANA SEA BR...| 153691|Patricia Miranda ...|               null|     Copacabana|-22.98127|-43.19046|Entire home/apt|  221|             3|              303| 2019-07-12|             2.83|                           1.0|             145|\n",
            "|35893|      Copa Tabajaras| 154043|                Seba|               null|     Copacabana|-22.96681|-43.18657|   Private room|  150|             2|                1| 2012-06-25|             0.01|                           1.0|              89|\n",
            "|48305|Beach Block 6bed ...|  70933|                Alex|               null|        Ipanema|-22.98633|-43.20256|Entire home/apt| 3250|             2|               54| 2019-07-01|             0.53|                           6.0|             298|\n",
            "|48726|Rio de Janeiro Co...| 221941|                Vana|               null|     Copacabana|-22.98359|-43.19382|   Private room|   71|             3|               40| 2019-06-29|             1.94|                           1.0|               3|\n",
            "|48901|4bedrooms Copacab...| 222884|              Marcio|               null|     Copacabana|-22.96467|-43.17442|Entire home/apt|  801|             4|                3| 2018-10-04|             0.06|                           5.0|             210|\n",
            "|48902|HUmaita 1 quarto ...| 222884|              Marcio|               null|        Humaitá|-22.95542|-43.20058|Entire home/apt|   97|             5|                0|       null|             null|                           5.0|             182|\n",
            "|49179|Djalma Ocean View...| 224192|               David|               null|     Copacabana|-22.97934|-43.19113|Entire home/apt|  169|             3|               75| 2019-06-25|             0.93|                          47.0|             215|\n",
            "|50294|Beach Block 3Bed ...|  70933|                Alex|               null|        Ipanema|-22.98551| -43.2041|Entire home/apt|  843|             2|               67| 2019-06-22|             0.69|                           6.0|             268|\n",
            "|50759|4 Suites lake fro...| 233554|              Felipe|               null|Barra da Tijuca|-23.00307|-43.30911|Entire home/apt| 2322|             1|                7| 2017-01-08|             0.16|                           4.0|             359|\n",
            "|51703|Ocean view Copaca...| 238091|               Dália|               null|     Copacabana|-22.98108|-43.19078|Entire home/apt|  146|             3|              154| 2019-07-09|             1.82|                           2.0|             308|\n",
            "|60718|Wonderful loft at...| 292870|               Tânia|               null|       Flamengo|-22.93046| -43.1745|Entire home/apt|  759|             7|                8| 2014-07-17|             0.08|                           2.0|             222|\n",
            "|61661|Perfect Copacaban...| 241334|              Andrea|               null|     Copacabana|-22.98522|-43.19242|Entire home/apt|  131|             4|               22| 2019-07-09|             0.21|                           5.0|             343|\n",
            "|64668|NICE APARTAMENT A...| 315989|             Luciana|               null|        Ipanema|-22.98021|-43.20232|Entire home/apt| 1299|             2|                0|       null|             null|                           3.0|             358|\n",
            "|65546|Beach Block 3bed ...|  70933|                Alex|               null|        Ipanema|-22.98623|-43.20353|Entire home/apt| 1730|             2|               56| 2019-05-06|             0.55|                           6.0|             311|\n",
            "|66574|Beach apart in Ri...| 326301|            Frederic|               null|       Flamengo|-22.92873|-43.17473|Entire home/apt|  258|             4|                1| 2016-08-24|             0.03|                           2.0|             351|\n",
            "|66797|Studio Apart  for...| 328096|              Carlos|               null|     Copacabana|-22.98282|-43.19571|Entire home/apt|  150|             3|              172| 2019-07-08|             1.70|                           3.0|             224|\n",
            "+-----+--------------------+-------+--------------------+-------------------+---------------+---------+---------+---------------+-----+--------------+-----------------+-----------+-----------------+------------------------------+----------------+\n",
            "only showing top 20 rows\n",
            "\n"
          ],
          "name": "stdout"
        }
      ]
    },
    {
      "cell_type": "code",
      "metadata": {
        "colab": {
          "base_uri": "https://localhost:8080/"
        },
        "id": "6gZdju0fD6yF",
        "outputId": "9b90c8e4-d0ff-4860-8806-440241a004a7"
      },
      "source": [
        "df_spark.withColumn(\"name\",f.trim(f.col(\"name\"))).show(20,False)"
      ],
      "execution_count": 5,
      "outputs": [
        {
          "output_type": "stream",
          "text": [
            "+-----+--------------------------------------------------+-------+------------------------+-------------------+---------------+---------+---------+---------------+-----+--------------+-----------------+-----------+-----------------+------------------------------+----------------+\n",
            "|id   |name                                              |host_id|host_name               |neighbourhood_group|neighbourhood  |latitude |longitude|room_type      |price|minimum_nights|number_of_reviews|last_review|reviews_per_month|calculated_host_listings_count|availability_365|\n",
            "+-----+--------------------------------------------------+-------+------------------------+-------------------+---------------+---------+---------+---------------+-----+--------------+-----------------+-----------+-----------------+------------------------------+----------------+\n",
            "|17878|Very Nice 2Br - Copacabana - WiFi                 |68997  |Matthias                |null               |Copacabana     |-22.96592|-43.17896|Entire home/apt|296  |4             |233              |2019-06-30 |2.13             |1.0                           |332             |\n",
            "|25026|Beautiful Modern Decorated Studio in Copa         |102840 |Viviane                 |null               |Copacabana     |-22.97712|-43.19045|Entire home/apt|161  |4             |232              |2019-04-27 |2.09             |3.0                           |352             |\n",
            "|31560|NICE & COZY 1BDR - IPANEMA BEACH                  |135635 |Renata                  |null               |Ipanema        |-22.98302|-43.21427|Entire home/apt|243  |2             |260              |2019-07-08 |2.37             |1.0                           |125             |\n",
            "|35636|Cosy flat close to Ipanema beach                  |153232 |Patricia                |null               |Ipanema        |-22.98816|-43.19359|Entire home/apt|337  |2             |160              |2019-07-04 |2.29             |1.0                           |122             |\n",
            "|35764|COPACABANA SEA BREEZE  -  RIO                     |153691 |Patricia Miranda & Paulo|null               |Copacabana     |-22.98127|-43.19046|Entire home/apt|221  |3             |303              |2019-07-12 |2.83             |1.0                           |145             |\n",
            "|35893|Copa Tabajaras                                    |154043 |Seba                    |null               |Copacabana     |-22.96681|-43.18657|Private room   |150  |2             |1                |2012-06-25 |0.01             |1.0                           |89              |\n",
            "|48305|Beach Block 6bed Penthouse, Ipanema Best Location!|70933  |Alex                    |null               |Ipanema        |-22.98633|-43.20256|Entire home/apt|3250 |2             |54               |2019-07-01 |0.53             |6.0                           |298             |\n",
            "|48726|Rio de Janeiro Copacabana Ipanema                 |221941 |Vana                    |null               |Copacabana     |-22.98359|-43.19382|Private room   |71   |3             |40               |2019-06-29 |1.94             |1.0                           |3               |\n",
            "|48901|4bedrooms Copacabana Beach                        |222884 |Marcio                  |null               |Copacabana     |-22.96467|-43.17442|Entire home/apt|801  |4             |3                |2018-10-04 |0.06             |5.0                           |210             |\n",
            "|48902|HUmaita 1 quarto ate 3 pessoas 1 Bedroom 3 sleep  |222884 |Marcio                  |null               |Humaitá        |-22.95542|-43.20058|Entire home/apt|97   |5             |0                |null       |null             |5.0                           |182             |\n",
            "|49179|Djalma Ocean View - #100A                         |224192 |David                   |null               |Copacabana     |-22.97934|-43.19113|Entire home/apt|169  |3             |75               |2019-06-25 |0.93             |47.0                          |215             |\n",
            "|50294|Beach Block 3Bed ensuite in Ipanema Best Location!|70933  |Alex                    |null               |Ipanema        |-22.98551|-43.2041 |Entire home/apt|843  |2             |67               |2019-06-22 |0.69             |6.0                           |268             |\n",
            "|50759|4 Suites lake front Barra da Tijuca               |233554 |Felipe                  |null               |Barra da Tijuca|-23.00307|-43.30911|Entire home/apt|2322 |1             |7                |2017-01-08 |0.16             |4.0                           |359             |\n",
            "|51703|Ocean view Copacabana,Ipanema                     |238091 |Dália                   |null               |Copacabana     |-22.98108|-43.19078|Entire home/apt|146  |3             |154              |2019-07-09 |1.82             |2.0                           |308             |\n",
            "|60718|Wonderful loft at the heart of Rio de Janeiro     |292870 |Tânia                   |null               |Flamengo       |-22.93046|-43.1745 |Entire home/apt|759  |7             |8                |2014-07-17 |0.08             |2.0                           |222             |\n",
            "|61661|Perfect Copacabana near Ipanema                   |241334 |Andrea                  |null               |Copacabana     |-22.98522|-43.19242|Entire home/apt|131  |4             |22               |2019-07-09 |0.21             |5.0                           |343             |\n",
            "|64668|NICE APARTAMENT AT IPANEMA- RIO DE                |315989 |Luciana                 |null               |Ipanema        |-22.98021|-43.20232|Entire home/apt|1299 |2             |0                |null       |null             |3.0                           |358             |\n",
            "|65546|Beach Block 3bed Penthouse, Ipanema Best Location!|70933  |Alex                    |null               |Ipanema        |-22.98623|-43.20353|Entire home/apt|1730 |2             |56               |2019-05-06 |0.55             |6.0                           |311             |\n",
            "|66574|Beach apart in Rio (January/February 2019)        |326301 |Frederic                |null               |Flamengo       |-22.92873|-43.17473|Entire home/apt|258  |4             |1                |2016-08-24 |0.03             |2.0                           |351             |\n",
            "|66797|Studio Apart  for rent in ipanema.                |328096 |Carlos                  |null               |Copacabana     |-22.98282|-43.19571|Entire home/apt|150  |3             |172              |2019-07-08 |1.70             |3.0                           |224             |\n",
            "+-----+--------------------------------------------------+-------+------------------------+-------------------+---------------+---------+---------+---------------+-----+--------------+-----------------+-----------+-----------------+------------------------------+----------------+\n",
            "only showing top 20 rows\n",
            "\n"
          ],
          "name": "stdout"
        }
      ]
    },
    {
      "cell_type": "code",
      "metadata": {
        "id": "SrrkLxb2H9Pq"
      },
      "source": [
        "!pip install chart_studio\n",
        "!pip install plotly"
      ],
      "execution_count": null,
      "outputs": []
    },
    {
      "cell_type": "code",
      "metadata": {
        "colab": {
          "base_uri": "https://localhost:8080/"
        },
        "id": "n8zsckY8ICy_",
        "outputId": "ae0f0bf8-db8e-46d6-da2b-2d5a97d1944c"
      },
      "source": [
        "df_pd = df_spark.groupby(\"neighbourhood\")\\\n",
        "                .agg(f.sum(\"availability_365\")\\\n",
        "                .alias(\"availability_365\"))\\\n",
        "                .filter(f.col(\"availability_365\").isNotNull())\\\n",
        "                .orderBy(\"availability_365\", ascending=False)\\\n",
        "                .limit(10).toPandas()\n",
        "print(df_pd)"
      ],
      "execution_count": 7,
      "outputs": [
        {
          "output_type": "stream",
          "text": [
            "              neighbourhood  availability_365\n",
            "0                Copacabana           1704835\n",
            "1           Barra da Tijuca            704497\n",
            "2                   Ipanema            551062\n",
            "3  Recreio dos Bandeirantes            335171\n",
            "4               Jacarepaguá            334559\n",
            "5                  Botafogo            304785\n",
            "6                    Leblon            276433\n",
            "7              Santa Teresa            256503\n",
            "8                    Centro            190440\n",
            "9                  Flamengo            173569\n"
          ],
          "name": "stdout"
        }
      ]
    },
    {
      "cell_type": "code",
      "metadata": {
        "colab": {
          "base_uri": "https://localhost:8080/",
          "height": 408
        },
        "id": "iLTK8EE1Gh6a",
        "outputId": "0b4f8816-2cb8-4636-8f18-0c505aaa6c1c"
      },
      "source": [
        "import matplotlib.pyplot as plt\n",
        "\n",
        "df_pd.plot(x ='neighbourhood', y='availability_365', kind = 'bar')\n",
        "plt.show()"
      ],
      "execution_count": 22,
      "outputs": [
        {
          "output_type": "display_data",
          "data": {
            "image/png": "[encoded data removed]",
            "text/plain": [
              "<Figure size 432x288 with 1 Axes>"
            ]
          },
          "metadata": {
            "tags": [],
            "needs_background": "light"
          }
        }
      ]
    }
  ]
}